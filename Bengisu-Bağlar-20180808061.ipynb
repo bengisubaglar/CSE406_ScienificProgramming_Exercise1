{
 "cells": [
  {
   "cell_type": "markdown",
   "id": "4f71907e",
   "metadata": {},
   "source": [
    "<h3> Bengisu Bağlar 20180808061 </h3>\n",
    "\n",
    "<h3> 1 Basics </h3>\n",
    "\n",
    "<h4> Exercise 1.1: The interpreter </h4>\n"
   ]
  },
  {
   "cell_type": "markdown",
   "id": "9d4672a4",
   "metadata": {},
   "source": [
    "Nothing happens when we input the following statements because there is nothing else assigned to the operations .\n",
    "\n",
    "<h5> (a) </h5>"
   ]
  },
  {
   "cell_type": "code",
   "execution_count": 1,
   "id": "88e816df",
   "metadata": {
    "scrolled": true
   },
   "outputs": [
    {
     "data": {
      "text/plain": [
       "4"
      ]
     },
     "execution_count": 1,
     "metadata": {},
     "output_type": "execute_result"
    }
   ],
   "source": [
    "3 + 1"
   ]
  },
  {
   "cell_type": "markdown",
   "id": "5edc2449",
   "metadata": {},
   "source": [
    "<h5> (b) </h5>"
   ]
  },
  {
   "cell_type": "code",
   "execution_count": 2,
   "id": "28a8e061",
   "metadata": {
    "scrolled": true
   },
   "outputs": [
    {
     "data": {
      "text/plain": [
       "9"
      ]
     },
     "execution_count": 2,
     "metadata": {},
     "output_type": "execute_result"
    }
   ],
   "source": [
    "3 * 3"
   ]
  },
  {
   "cell_type": "markdown",
   "id": "e8abe151",
   "metadata": {},
   "source": [
    "<h5> (c) </h5>"
   ]
  },
  {
   "cell_type": "code",
   "execution_count": 3,
   "id": "86a462fe",
   "metadata": {
    "scrolled": true
   },
   "outputs": [
    {
     "data": {
      "text/plain": [
       "8"
      ]
     },
     "execution_count": 3,
     "metadata": {},
     "output_type": "execute_result"
    }
   ],
   "source": [
    "2 ** 3"
   ]
  },
  {
   "cell_type": "markdown",
   "id": "c8b19207",
   "metadata": {},
   "source": [
    "<h5> (d) </h5>"
   ]
  },
  {
   "cell_type": "code",
   "execution_count": 4,
   "id": "80bbfbd1",
   "metadata": {},
   "outputs": [
    {
     "data": {
      "text/plain": [
       "'Hello, world!'"
      ]
     },
     "execution_count": 4,
     "metadata": {},
     "output_type": "execute_result"
    }
   ],
   "source": [
    "\"Hello, world!\""
   ]
  },
  {
   "cell_type": "markdown",
   "id": "6f08c97f",
   "metadata": {},
   "source": [
    "<h5> Exercise 1.2: Scripts </h5>"
   ]
  },
  {
   "cell_type": "markdown",
   "id": "f7cc6a9d",
   "metadata": {},
   "source": [
    "Again, nothing happens but if we write them in \"print\" function, then we will have outputs.\n",
    "\n",
    "<h5> Exercise 1.3: More interpreter </h5>\n",
    "\n",
    "<h5> (a) </h5> Adds two strings.(String concatenation) "
   ]
  },
  {
   "cell_type": "code",
   "execution_count": 5,
   "id": "aeb591c9",
   "metadata": {},
   "outputs": [
    {
     "data": {
      "text/plain": [
       "'python'"
      ]
     },
     "execution_count": 5,
     "metadata": {},
     "output_type": "execute_result"
    }
   ],
   "source": [
    "\"py\" + \"thon\""
   ]
  },
  {
   "cell_type": "markdown",
   "id": "f18e9742",
   "metadata": {},
   "source": [
    "<h5> (b) </h5> Adds two strings and multiplies the first string with 3."
   ]
  },
  {
   "cell_type": "code",
   "execution_count": 6,
   "id": "24786b7b",
   "metadata": {},
   "outputs": [
    {
     "data": {
      "text/plain": [
       "'pypypython'"
      ]
     },
     "execution_count": 6,
     "metadata": {},
     "output_type": "execute_result"
    }
   ],
   "source": [
    "\"py\" * 3 + \"thon\""
   ]
  },
  {
   "cell_type": "markdown",
   "id": "fbe4dbed",
   "metadata": {},
   "source": [
    "<h5> (c) </h5> Type error because Python does not have substraction operator for strings."
   ]
  },
  {
   "cell_type": "code",
   "execution_count": 7,
   "id": "6931ad0c",
   "metadata": {},
   "outputs": [
    {
     "ename": "TypeError",
     "evalue": "unsupported operand type(s) for -: 'str' and 'str'",
     "output_type": "error",
     "traceback": [
      "\u001b[1;31m---------------------------------------------------------------------------\u001b[0m",
      "\u001b[1;31mTypeError\u001b[0m                                 Traceback (most recent call last)",
      "\u001b[1;32m~\\AppData\\Local\\Temp/ipykernel_4756/3896008914.py\u001b[0m in \u001b[0;36m<module>\u001b[1;34m\u001b[0m\n\u001b[1;32m----> 1\u001b[1;33m \u001b[1;34m\"py\"\u001b[0m \u001b[1;33m-\u001b[0m \u001b[1;34m\"py\"\u001b[0m\u001b[1;33m\u001b[0m\u001b[1;33m\u001b[0m\u001b[0m\n\u001b[0m",
      "\u001b[1;31mTypeError\u001b[0m: unsupported operand type(s) for -: 'str' and 'str'"
     ]
    }
   ],
   "source": [
    "\"py\" - \"py\""
   ]
  },
  {
   "cell_type": "markdown",
   "id": "11958dc9",
   "metadata": {},
   "source": [
    "<h5> (d) </h5> Type error because Python can not add a string and an integer."
   ]
  },
  {
   "cell_type": "code",
   "execution_count": 9,
   "id": "435d2abf",
   "metadata": {},
   "outputs": [
    {
     "ename": "TypeError",
     "evalue": "can only concatenate str (not \"int\") to str",
     "output_type": "error",
     "traceback": [
      "\u001b[1;31m---------------------------------------------------------------------------\u001b[0m",
      "\u001b[1;31mTypeError\u001b[0m                                 Traceback (most recent call last)",
      "\u001b[1;32m~\\AppData\\Local\\Temp/ipykernel_4756/3791884246.py\u001b[0m in \u001b[0;36m<module>\u001b[1;34m\u001b[0m\n\u001b[1;32m----> 1\u001b[1;33m \u001b[1;34m\"3\"\u001b[0m \u001b[1;33m+\u001b[0m \u001b[1;36m3\u001b[0m\u001b[1;33m\u001b[0m\u001b[1;33m\u001b[0m\u001b[0m\n\u001b[0m",
      "\u001b[1;31mTypeError\u001b[0m: can only concatenate str (not \"int\") to str"
     ]
    }
   ],
   "source": [
    "\"3\" + 3"
   ]
  },
  {
   "cell_type": "markdown",
   "id": "1ecae938",
   "metadata": {},
   "source": [
    "<h5> (e) </h5> Writes String \"3\" three times."
   ]
  },
  {
   "cell_type": "code",
   "execution_count": 10,
   "id": "c13d9a62",
   "metadata": {},
   "outputs": [
    {
     "data": {
      "text/plain": [
       "'333'"
      ]
     },
     "execution_count": 10,
     "metadata": {},
     "output_type": "execute_result"
    }
   ],
   "source": [
    "3 * \"3\""
   ]
  },
  {
   "cell_type": "markdown",
   "id": "0da76afa",
   "metadata": {},
   "source": [
    "<h5> (f) </h5> Since a is not defined yet, we have a NameError."
   ]
  },
  {
   "cell_type": "code",
   "execution_count": 11,
   "id": "b0113e36",
   "metadata": {},
   "outputs": [
    {
     "ename": "NameError",
     "evalue": "name 'a' is not defined",
     "output_type": "error",
     "traceback": [
      "\u001b[1;31m---------------------------------------------------------------------------\u001b[0m",
      "\u001b[1;31mNameError\u001b[0m                                 Traceback (most recent call last)",
      "\u001b[1;32m~\\AppData\\Local\\Temp/ipykernel_4756/1804447767.py\u001b[0m in \u001b[0;36m<module>\u001b[1;34m\u001b[0m\n\u001b[1;32m----> 1\u001b[1;33m \u001b[0ma\u001b[0m\u001b[1;33m\u001b[0m\u001b[1;33m\u001b[0m\u001b[0m\n\u001b[0m",
      "\u001b[1;31mNameError\u001b[0m: name 'a' is not defined"
     ]
    }
   ],
   "source": [
    "a "
   ]
  },
  {
   "cell_type": "markdown",
   "id": "95245516",
   "metadata": {},
   "source": [
    "<h5> (g) </h5> Assigning defining a as 3."
   ]
  },
  {
   "cell_type": "code",
   "execution_count": 12,
   "id": "57502d9d",
   "metadata": {},
   "outputs": [],
   "source": [
    "a = 3"
   ]
  },
  {
   "cell_type": "markdown",
   "id": "36b29908",
   "metadata": {},
   "source": [
    "<h5> (h) </h5> Since a is now defined (3). We see 3 as the output."
   ]
  },
  {
   "cell_type": "code",
   "execution_count": 13,
   "id": "e2ec5208",
   "metadata": {},
   "outputs": [
    {
     "data": {
      "text/plain": [
       "3"
      ]
     },
     "execution_count": 13,
     "metadata": {},
     "output_type": "execute_result"
    }
   ],
   "source": [
    "a"
   ]
  },
  {
   "cell_type": "markdown",
   "id": "1ea2d05d",
   "metadata": {},
   "source": [
    "<h5> Exercise 1.4: Booleans </h5>"
   ]
  },
  {
   "cell_type": "markdown",
   "id": "789e2240",
   "metadata": {},
   "source": [
    "<h5> (a) </h5> 1 == 1. "
   ]
  },
  {
   "cell_type": "code",
   "execution_count": 14,
   "id": "522b985a",
   "metadata": {},
   "outputs": [
    {
     "data": {
      "text/plain": [
       "True"
      ]
     },
     "execution_count": 14,
     "metadata": {},
     "output_type": "execute_result"
    }
   ],
   "source": [
    "1 == 1"
   ]
  },
  {
   "cell_type": "markdown",
   "id": "f57a0009",
   "metadata": {},
   "source": [
    "<h5> (b) </h5> 1 == True."
   ]
  },
  {
   "cell_type": "code",
   "execution_count": 15,
   "id": "efd56ed3",
   "metadata": {},
   "outputs": [
    {
     "data": {
      "text/plain": [
       "True"
      ]
     },
     "execution_count": 15,
     "metadata": {},
     "output_type": "execute_result"
    }
   ],
   "source": [
    "1 == True"
   ]
  },
  {
   "cell_type": "markdown",
   "id": "588b321e",
   "metadata": {},
   "source": [
    "<h5> (c) </h5> 0 == True"
   ]
  },
  {
   "cell_type": "code",
   "execution_count": 16,
   "id": "6bc4dcfa",
   "metadata": {},
   "outputs": [
    {
     "data": {
      "text/plain": [
       "False"
      ]
     },
     "execution_count": 16,
     "metadata": {},
     "output_type": "execute_result"
    }
   ],
   "source": [
    "0 == True"
   ]
  },
  {
   "cell_type": "markdown",
   "id": "b562f685",
   "metadata": {},
   "source": [
    "<h5> (d) </h5> 0 == False"
   ]
  },
  {
   "cell_type": "code",
   "execution_count": 17,
   "id": "6c73d8eb",
   "metadata": {},
   "outputs": [
    {
     "data": {
      "text/plain": [
       "True"
      ]
     },
     "execution_count": 17,
     "metadata": {},
     "output_type": "execute_result"
    }
   ],
   "source": [
    "0 == False"
   ]
  },
  {
   "cell_type": "markdown",
   "id": "976a457f",
   "metadata": {},
   "source": [
    "<h5> (e) </h5> 3 == 1 * 3"
   ]
  },
  {
   "cell_type": "code",
   "execution_count": 18,
   "id": "05854f90",
   "metadata": {},
   "outputs": [
    {
     "data": {
      "text/plain": [
       "True"
      ]
     },
     "execution_count": 18,
     "metadata": {},
     "output_type": "execute_result"
    }
   ],
   "source": [
    "3 == 1 * 3"
   ]
  },
  {
   "cell_type": "markdown",
   "id": "cccce49a",
   "metadata": {},
   "source": [
    "<h5> (f) </h5> (3 == 1) * 3"
   ]
  },
  {
   "cell_type": "code",
   "execution_count": 19,
   "id": "a3036cd6",
   "metadata": {
    "scrolled": true
   },
   "outputs": [
    {
     "data": {
      "text/plain": [
       "0"
      ]
     },
     "execution_count": 19,
     "metadata": {},
     "output_type": "execute_result"
    }
   ],
   "source": [
    "(3 == 1) * 3"
   ]
  },
  {
   "cell_type": "markdown",
   "id": "3597a992",
   "metadata": {},
   "source": [
    "<h5> (g) </h5> (3 == 3) * 4 + 3 == 1"
   ]
  },
  {
   "cell_type": "code",
   "execution_count": 20,
   "id": "1dfd12b5",
   "metadata": {},
   "outputs": [
    {
     "data": {
      "text/plain": [
       "False"
      ]
     },
     "execution_count": 20,
     "metadata": {},
     "output_type": "execute_result"
    }
   ],
   "source": [
    "(3 == 3) * 4 + 3 == 1"
   ]
  },
  {
   "cell_type": "markdown",
   "id": "58fae279",
   "metadata": {},
   "source": [
    "<h5> (h) </h5>  3**5 >= 4**4"
   ]
  },
  {
   "cell_type": "code",
   "execution_count": 21,
   "id": "ee77e74b",
   "metadata": {},
   "outputs": [
    {
     "data": {
      "text/plain": [
       "False"
      ]
     },
     "execution_count": 21,
     "metadata": {},
     "output_type": "execute_result"
    }
   ],
   "source": [
    "3**5 >= 4**4"
   ]
  },
  {
   "cell_type": "markdown",
   "id": "aab21621",
   "metadata": {},
   "source": [
    "<h5> Exercise 1.5: Integers </h5>"
   ]
  },
  {
   "cell_type": "markdown",
   "id": "75fe7746",
   "metadata": {},
   "source": [
    "<h5> (a) </h5> 5 / 3."
   ]
  },
  {
   "cell_type": "code",
   "execution_count": 22,
   "id": "06a7b5eb",
   "metadata": {},
   "outputs": [
    {
     "data": {
      "text/plain": [
       "1.6666666666666667"
      ]
     },
     "execution_count": 22,
     "metadata": {},
     "output_type": "execute_result"
    }
   ],
   "source": [
    "5 / 3"
   ]
  },
  {
   "cell_type": "markdown",
   "id": "df0feadc",
   "metadata": {},
   "source": [
    "<h5> (b)  </h5> 5 % 3."
   ]
  },
  {
   "cell_type": "code",
   "execution_count": 23,
   "id": "a4d7039f",
   "metadata": {},
   "outputs": [
    {
     "data": {
      "text/plain": [
       "2"
      ]
     },
     "execution_count": 23,
     "metadata": {},
     "output_type": "execute_result"
    }
   ],
   "source": [
    "5 % 3"
   ]
  },
  {
   "cell_type": "markdown",
   "id": "56f0ecf7",
   "metadata": {},
   "source": [
    "<h5> (c) </h5> 5.0 / 3."
   ]
  },
  {
   "cell_type": "code",
   "execution_count": 24,
   "id": "8b3ef992",
   "metadata": {},
   "outputs": [
    {
     "data": {
      "text/plain": [
       "1.6666666666666667"
      ]
     },
     "execution_count": 24,
     "metadata": {},
     "output_type": "execute_result"
    }
   ],
   "source": [
    "5.0 / 3"
   ]
  },
  {
   "cell_type": "markdown",
   "id": "4c04a857",
   "metadata": {},
   "source": [
    "<h5> (d) </h5> 5 / 3.0."
   ]
  },
  {
   "cell_type": "code",
   "execution_count": 25,
   "id": "842672aa",
   "metadata": {},
   "outputs": [
    {
     "data": {
      "text/plain": [
       "1.6666666666666667"
      ]
     },
     "execution_count": 25,
     "metadata": {},
     "output_type": "execute_result"
    }
   ],
   "source": [
    "5 / 3.0"
   ]
  },
  {
   "cell_type": "markdown",
   "id": "85d077a6",
   "metadata": {},
   "source": [
    "<h5> (e) </h5> 5.2 % 3."
   ]
  },
  {
   "cell_type": "code",
   "execution_count": 26,
   "id": "2502dcf1",
   "metadata": {},
   "outputs": [
    {
     "data": {
      "text/plain": [
       "2.2"
      ]
     },
     "execution_count": 26,
     "metadata": {},
     "output_type": "execute_result"
    }
   ],
   "source": [
    "5.2 % 3"
   ]
  },
  {
   "cell_type": "markdown",
   "id": "389c2111",
   "metadata": {},
   "source": [
    "<h5> (f) </h5> 2001 ** 200."
   ]
  },
  {
   "cell_type": "code",
   "execution_count": 27,
   "id": "1dedd02a",
   "metadata": {},
   "outputs": [
    {
     "data": {
      "text/plain": [
       "1775896810483121914350934797871501063452843428843794422323202530887281536545210629921129898113201749875234297340507804201761453596034016264189501186924066128377025843892373608427790859511135990682732202975330824797118808624727351608183194154557208730494440110429635650057431833674286462463508755276302896154336475782768613964332764108132533925570342220340698973761380541294970139762186212823359128790706292900765512137078550033912252338262922477518858757114840012576514724742388124595061301502222934806074032688691170880996881967426442947828261057852871032366879179996122216385870273020506079240103910728766397733398071775041745854959302025036249707279600400001"
      ]
     },
     "execution_count": 27,
     "metadata": {},
     "output_type": "execute_result"
    }
   ],
   "source": [
    "2001 ** 200"
   ]
  },
  {
   "cell_type": "markdown",
   "id": "a700d2da",
   "metadata": {},
   "source": [
    "<h5> Exercise 1.6: Floats </h5>"
   ]
  },
  {
   "cell_type": "markdown",
   "id": "4121e87a",
   "metadata": {},
   "source": [
    "<h5> (a) </h5> 2000.3 ** 200."
   ]
  },
  {
   "cell_type": "code",
   "execution_count": 28,
   "id": "6031b43c",
   "metadata": {},
   "outputs": [
    {
     "ename": "OverflowError",
     "evalue": "(34, 'Result too large')",
     "output_type": "error",
     "traceback": [
      "\u001b[1;31m---------------------------------------------------------------------------\u001b[0m",
      "\u001b[1;31mOverflowError\u001b[0m                             Traceback (most recent call last)",
      "\u001b[1;32m~\\AppData\\Local\\Temp/ipykernel_4756/2640983736.py\u001b[0m in \u001b[0;36m<module>\u001b[1;34m\u001b[0m\n\u001b[1;32m----> 1\u001b[1;33m \u001b[1;36m2000.3\u001b[0m \u001b[1;33m**\u001b[0m \u001b[1;36m200\u001b[0m\u001b[1;33m\u001b[0m\u001b[1;33m\u001b[0m\u001b[0m\n\u001b[0m",
      "\u001b[1;31mOverflowError\u001b[0m: (34, 'Result too large')"
     ]
    }
   ],
   "source": [
    "2000.3 ** 200"
   ]
  },
  {
   "cell_type": "markdown",
   "id": "79d6297a",
   "metadata": {},
   "source": [
    "<h5> (b) </h5> 1.0 + 1.0 - 1.0."
   ]
  },
  {
   "cell_type": "code",
   "execution_count": 29,
   "id": "08923cf2",
   "metadata": {},
   "outputs": [
    {
     "data": {
      "text/plain": [
       "1.0"
      ]
     },
     "execution_count": 29,
     "metadata": {},
     "output_type": "execute_result"
    }
   ],
   "source": [
    "1.0 + 1.0 - 1.0"
   ]
  },
  {
   "cell_type": "markdown",
   "id": "0e4dda23",
   "metadata": {},
   "source": [
    "<h5> (c)  </h5> 1.0 + 1.0e20 - 1.0e20."
   ]
  },
  {
   "cell_type": "code",
   "execution_count": 30,
   "id": "f595f5c1",
   "metadata": {},
   "outputs": [
    {
     "data": {
      "text/plain": [
       "0.0"
      ]
     },
     "execution_count": 30,
     "metadata": {},
     "output_type": "execute_result"
    }
   ],
   "source": [
    "1.0 + 1.0e20 - 1.0e20"
   ]
  },
  {
   "cell_type": "markdown",
   "id": "a95f7339",
   "metadata": {},
   "source": [
    "<h5> Exercise 1.7: Variables </h5>"
   ]
  },
  {
   "cell_type": "code",
   "execution_count": 31,
   "id": "f7c01ae8",
   "metadata": {},
   "outputs": [
    {
     "name": "stdout",
     "output_type": "stream",
     "text": [
      "Hello, Bengisu!\n"
     ]
    }
   ],
   "source": [
    "name = \"Bengisu\"\n",
    "print(\"Hello, \" + name + \"!\")"
   ]
  },
  {
   "cell_type": "markdown",
   "id": "19a69188",
   "metadata": {},
   "source": [
    "<h5> Exercise 1.8: Type casting </h5>"
   ]
  },
  {
   "cell_type": "code",
   "execution_count": 32,
   "id": "c7241f17",
   "metadata": {},
   "outputs": [],
   "source": [
    "x = \"123\""
   ]
  },
  {
   "cell_type": "markdown",
   "id": "eef797f0",
   "metadata": {},
   "source": [
    "<h5> (a) </h5> float(123)."
   ]
  },
  {
   "cell_type": "code",
   "execution_count": 33,
   "id": "309db3f8",
   "metadata": {},
   "outputs": [
    {
     "data": {
      "text/plain": [
       "123.0"
      ]
     },
     "execution_count": 33,
     "metadata": {},
     "output_type": "execute_result"
    }
   ],
   "source": [
    "float(x)"
   ]
  },
  {
   "cell_type": "markdown",
   "id": "a3a8a2c4",
   "metadata": {},
   "source": [
    "<h5> (b) </h5> float(\"123\")."
   ]
  },
  {
   "cell_type": "code",
   "execution_count": 34,
   "id": "96f27535",
   "metadata": {},
   "outputs": [
    {
     "data": {
      "text/plain": [
       "123.0"
      ]
     },
     "execution_count": 34,
     "metadata": {},
     "output_type": "execute_result"
    }
   ],
   "source": [
    "float(\"123\")"
   ]
  },
  {
   "cell_type": "markdown",
   "id": "08ef234d",
   "metadata": {},
   "source": [
    "<h5> (c) </h5> float(\"123.23\")."
   ]
  },
  {
   "cell_type": "code",
   "execution_count": 35,
   "id": "565594dd",
   "metadata": {},
   "outputs": [
    {
     "data": {
      "text/plain": [
       "123.23"
      ]
     },
     "execution_count": 35,
     "metadata": {},
     "output_type": "execute_result"
    }
   ],
   "source": [
    "float(\"123.23\")"
   ]
  },
  {
   "cell_type": "markdown",
   "id": "27cc3ed6",
   "metadata": {},
   "source": [
    "<h5> (d) </h5> int(123.23).Rounds the float to integer value."
   ]
  },
  {
   "cell_type": "code",
   "execution_count": 36,
   "id": "19ead6cd",
   "metadata": {},
   "outputs": [
    {
     "data": {
      "text/plain": [
       "123"
      ]
     },
     "execution_count": 36,
     "metadata": {},
     "output_type": "execute_result"
    }
   ],
   "source": [
    "int(123.23)"
   ]
  },
  {
   "cell_type": "markdown",
   "id": "76d08809",
   "metadata": {},
   "source": [
    "<h5> (e) </h5> int(\"123.23\").  Cannot convert the string to int because it is not 10 based."
   ]
  },
  {
   "cell_type": "code",
   "execution_count": 38,
   "id": "b1dace3e",
   "metadata": {},
   "outputs": [
    {
     "ename": "ValueError",
     "evalue": "invalid literal for int() with base 10: '123.23'",
     "output_type": "error",
     "traceback": [
      "\u001b[1;31m---------------------------------------------------------------------------\u001b[0m",
      "\u001b[1;31mValueError\u001b[0m                                Traceback (most recent call last)",
      "\u001b[1;32m~\\AppData\\Local\\Temp/ipykernel_4756/2403529725.py\u001b[0m in \u001b[0;36m<module>\u001b[1;34m\u001b[0m\n\u001b[1;32m----> 1\u001b[1;33m \u001b[0mint\u001b[0m\u001b[1;33m(\u001b[0m\u001b[1;34m\"123.23\"\u001b[0m\u001b[1;33m)\u001b[0m\u001b[1;33m\u001b[0m\u001b[1;33m\u001b[0m\u001b[0m\n\u001b[0m",
      "\u001b[1;31mValueError\u001b[0m: invalid literal for int() with base 10: '123.23'"
     ]
    }
   ],
   "source": [
    "int(\"123.23\")"
   ]
  },
  {
   "cell_type": "markdown",
   "id": "32264479",
   "metadata": {},
   "source": [
    "<h5> (f) </h5> int(float(’123.23’))"
   ]
  },
  {
   "cell_type": "code",
   "execution_count": 39,
   "id": "9d37c4c5",
   "metadata": {},
   "outputs": [
    {
     "data": {
      "text/plain": [
       "123"
      ]
     },
     "execution_count": 39,
     "metadata": {},
     "output_type": "execute_result"
    }
   ],
   "source": [
    "int(float(\"123.23\"))"
   ]
  },
  {
   "cell_type": "markdown",
   "id": "7085e75c",
   "metadata": {},
   "source": [
    "<h5> (g) </h5>  str(12)\n"
   ]
  },
  {
   "cell_type": "code",
   "execution_count": 40,
   "id": "c8b785b6",
   "metadata": {},
   "outputs": [
    {
     "data": {
      "text/plain": [
       "'12'"
      ]
     },
     "execution_count": 40,
     "metadata": {},
     "output_type": "execute_result"
    }
   ],
   "source": [
    "str(12)"
   ]
  },
  {
   "cell_type": "markdown",
   "id": "79fa0df1",
   "metadata": {},
   "source": [
    "<h5> (h) </h5> str(12.2)"
   ]
  },
  {
   "cell_type": "code",
   "execution_count": 41,
   "id": "a8a638ca",
   "metadata": {},
   "outputs": [
    {
     "data": {
      "text/plain": [
       "'12.2'"
      ]
     },
     "execution_count": 41,
     "metadata": {},
     "output_type": "execute_result"
    }
   ],
   "source": [
    "str(12.2)"
   ]
  },
  {
   "cell_type": "markdown",
   "id": "de4c215f",
   "metadata": {},
   "source": [
    "<h5> (i) </h5> bool(\"a\")"
   ]
  },
  {
   "cell_type": "code",
   "execution_count": 42,
   "id": "8765ac9a",
   "metadata": {},
   "outputs": [
    {
     "data": {
      "text/plain": [
       "True"
      ]
     },
     "execution_count": 42,
     "metadata": {},
     "output_type": "execute_result"
    }
   ],
   "source": [
    "bool(\"a\")"
   ]
  },
  {
   "cell_type": "markdown",
   "id": "794201f9",
   "metadata": {},
   "source": [
    "<h5> (j) </h5> bool(0)"
   ]
  },
  {
   "cell_type": "code",
   "execution_count": 43,
   "id": "ce522bfa",
   "metadata": {},
   "outputs": [
    {
     "data": {
      "text/plain": [
       "False"
      ]
     },
     "execution_count": 43,
     "metadata": {},
     "output_type": "execute_result"
    }
   ],
   "source": [
    "bool(0)"
   ]
  },
  {
   "cell_type": "markdown",
   "id": "3303d58a",
   "metadata": {},
   "source": [
    "<h5> (k) </h5> bool(0.1)"
   ]
  },
  {
   "cell_type": "code",
   "execution_count": 44,
   "id": "cb875acf",
   "metadata": {},
   "outputs": [
    {
     "data": {
      "text/plain": [
       "True"
      ]
     },
     "execution_count": 44,
     "metadata": {},
     "output_type": "execute_result"
    }
   ],
   "source": [
    "bool(0.1)"
   ]
  },
  {
   "cell_type": "markdown",
   "id": "fd8307ed",
   "metadata": {},
   "source": [
    "<h3> 2 Control Flow </h3>"
   ]
  },
  {
   "cell_type": "markdown",
   "id": "be46ef59",
   "metadata": {},
   "source": [
    "<h5> Exercise 2.1: Range </h5> "
   ]
  },
  {
   "cell_type": "code",
   "execution_count": 45,
   "id": "31e7e43c",
   "metadata": {},
   "outputs": [
    {
     "data": {
      "text/plain": [
       "range(0, 5)"
      ]
     },
     "execution_count": 45,
     "metadata": {},
     "output_type": "execute_result"
    }
   ],
   "source": [
    "range(5)"
   ]
  },
  {
   "cell_type": "code",
   "execution_count": 46,
   "id": "96d53e7b",
   "metadata": {},
   "outputs": [
    {
     "data": {
      "text/plain": [
       "range"
      ]
     },
     "execution_count": 46,
     "metadata": {},
     "output_type": "execute_result"
    }
   ],
   "source": [
    "type(range(5)) "
   ]
  },
  {
   "cell_type": "markdown",
   "id": "ff1ace27",
   "metadata": {},
   "source": [
    "<h5> Exercise 2.2: For loops </h5> "
   ]
  },
  {
   "cell_type": "markdown",
   "id": "e28c6b20",
   "metadata": {},
   "source": [
    "<h5> (a) </h5> "
   ]
  },
  {
   "cell_type": "code",
   "execution_count": 1,
   "id": "452d26e8",
   "metadata": {},
   "outputs": [
    {
     "name": "stdout",
     "output_type": "stream",
     "text": [
      "0 1 2 3 4 5 6 7 8 9 10 11 12 13 14 15 16 17 18 19 20 21 22 23 24 25 26 27 28 29 30 31 32 33 34 35 36 37 38 39 40 41 42 43 44 45 46 47 48 49 50 51 52 53 54 55 56 57 58 59 60 61 62 63 64 65 66 67 68 69 70 71 72 73 74 75 76 77 78 79 80 81 82 83 84 85 86 87 88 89 90 91 92 93 94 95 96 97 98 99 100 "
     ]
    }
   ],
   "source": [
    "for i in range(101) : \n",
    "    print(i, end=\" \")"
   ]
  },
  {
   "cell_type": "markdown",
   "id": "0cb86950",
   "metadata": {},
   "source": [
    "<h5> (b) </h5> "
   ]
  },
  {
   "cell_type": "code",
   "execution_count": 2,
   "id": "4fbad50b",
   "metadata": {},
   "outputs": [
    {
     "name": "stdout",
     "output_type": "stream",
     "text": [
      "0 7 14 21 28 35 42 49 56 63 70 77 84 91 98 "
     ]
    }
   ],
   "source": [
    "for i in range (101) :\n",
    "    if(i % 7 == 0):\n",
    "        print(i, end= \" \")"
   ]
  },
  {
   "cell_type": "markdown",
   "id": "147011ce",
   "metadata": {},
   "source": [
    "<h5> (c) </h5> "
   ]
  },
  {
   "cell_type": "code",
   "execution_count": 3,
   "id": "94298a51",
   "metadata": {},
   "outputs": [
    {
     "name": "stdout",
     "output_type": "stream",
     "text": [
      "5 10 20 25 35 40 50 55 65 70 80 85 95 100 "
     ]
    }
   ],
   "source": [
    "for i in range (101):\n",
    "    if((i % 5 == 0) and (i % 3 != 0)) : \n",
    "        print(i, end= \" \")"
   ]
  },
  {
   "cell_type": "markdown",
   "id": "c0460339",
   "metadata": {},
   "source": [
    "<h5> (d) </h5> "
   ]
  },
  {
   "cell_type": "code",
   "execution_count": 4,
   "id": "794e648f",
   "metadata": {},
   "outputs": [
    {
     "name": "stdout",
     "output_type": "stream",
     "text": [
      "2 3 6 9 "
     ]
    }
   ],
   "source": [
    "    i = 18\n",
    "    for x in range(2,i) :\n",
    "        if(i % x == 0 ) :\n",
    "            print(x, end= \" \")\n",
    "    "
   ]
  },
  {
   "cell_type": "markdown",
   "id": "030f81f5",
   "metadata": {},
   "source": [
    "<h5> Exercise 2.3: Simple while loops </h5> "
   ]
  },
  {
   "cell_type": "markdown",
   "id": "beb01b2b",
   "metadata": {},
   "source": [
    "<h5> (a) </h5> "
   ]
  },
  {
   "cell_type": "code",
   "execution_count": 5,
   "id": "f39af817",
   "metadata": {
    "scrolled": true
   },
   "outputs": [
    {
     "name": "stdout",
     "output_type": "stream",
     "text": [
      "1 2 3 4 5 6 7 8 9 10 11 12 13 14 15 16 17 18 19 20 21 22 23 24 25 26 27 28 29 30 31 32 33 34 35 36 37 38 39 40 41 42 43 44 45 46 47 48 49 50 51 52 53 54 55 56 57 58 59 60 61 62 63 64 65 66 67 68 69 70 71 72 73 74 75 76 77 78 79 80 81 82 83 84 85 86 87 88 89 90 91 92 93 94 95 96 97 98 99 100 "
     ]
    }
   ],
   "source": [
    "x = 1\n",
    "while x < 101 : \n",
    "    print(x,end = \" \")\n",
    "    x += 1\n",
    "    "
   ]
  },
  {
   "cell_type": "markdown",
   "id": "beefac4f",
   "metadata": {},
   "source": [
    "<h5> (b) </h5> "
   ]
  },
  {
   "cell_type": "code",
   "execution_count": 6,
   "id": "2af1f121",
   "metadata": {},
   "outputs": [
    {
     "name": "stdout",
     "output_type": "stream",
     "text": [
      "7 14 21 28 35 42 49 56 63 70 77 84 91 98 "
     ]
    }
   ],
   "source": [
    "i = 1\n",
    "while i < 101 :\n",
    "    if(i % 7 == 0) : \n",
    "        print(i, end = \" \")\n",
    "    i +=1"
   ]
  },
  {
   "cell_type": "markdown",
   "id": "85058075",
   "metadata": {},
   "source": [
    "<h5> Exercise 2.4: Hangman update 1 </h5> "
   ]
  },
  {
   "cell_type": "code",
   "execution_count": null,
   "id": "77549720",
   "metadata": {},
   "outputs": [],
   "source": []
  },
  {
   "cell_type": "markdown",
   "id": "1c2c911a",
   "metadata": {},
   "source": [
    "<h5> Exercise 2.5: While loops </h5>"
   ]
  },
  {
   "cell_type": "code",
   "execution_count": 78,
   "id": "599d42a1",
   "metadata": {},
   "outputs": [
    {
     "name": "stdout",
     "output_type": "stream",
     "text": [
      "385 770 1155 1540 1925 2310 2695 3080 3465 3850 4235 4620 5005 5390 5775 6160 6545 6930 7315 7700 "
     ]
    }
   ],
   "source": [
    "foundNum = 0\n",
    "x = 11\n",
    "while foundNum < 20 : \n",
    "      if (x % 5 == 0 and x % 7 == 0 and x % 11==0) :\n",
    "                print(x, end= \" \")\n",
    "                foundNum += 1\n",
    "      x += 1\n",
    "    \n",
    "    "
   ]
  },
  {
   "cell_type": "markdown",
   "id": "73c7317b",
   "metadata": {},
   "source": [
    "<h5> Exercise 2.6: More while loops </h5>"
   ]
  },
  {
   "cell_type": "code",
   "execution_count": 77,
   "id": "96d5fa90",
   "metadata": {},
   "outputs": [
    {
     "name": "stdout",
     "output_type": "stream",
     "text": [
      "2520\n"
     ]
    }
   ],
   "source": [
    "i = 1\n",
    "x = 1\n",
    "while i < 11 :\n",
    "    if (i % 2 == 0) :\n",
    "        x *= (i / 2)\n",
    "        i += 1\n",
    "\n",
    "    elif (i % 3 == 0) :\n",
    "        x *= (i / 3)\n",
    "        i += 1\n",
    "\n",
    "    elif (i % 5 == 0) :\n",
    "        x *= (i / 5)\n",
    "        i += 1\n",
    "\n",
    "    else :\n",
    "        x *= i\n",
    "        i += 1\n",
    "\n",
    "\n",
    "print(int(x))"
   ]
  },
  {
   "cell_type": "markdown",
   "id": "541c76f2",
   "metadata": {},
   "source": [
    "<h5> Exercise 2.7: Collatz sequence </h5>"
   ]
  },
  {
   "cell_type": "code",
   "execution_count": 18,
   "id": "79b71688",
   "metadata": {},
   "outputs": [
    {
     "name": "stdout",
     "output_type": "stream",
     "text": [
      "103, 310, 155, 466, 233, 700, 350, 175, 526, 263, 790, 395, 1186, 593, 1780, 890, 445, 1336, 668, 334, 167, 502, 251, 754, 377, 1132, 566, 283, 850, 425, 1276, 638, 319, 958, 479, 1438, 719, 2158, 1079, 3238, 1619, 4858, 2429, 7288, 3644, 1822, 911, 2734, 1367, 4102, 2051, 6154, 3077, 9232, 4616, 2308, 1154, 577, 1732, 866, 433, 1300, 650, 325, 976, 488, 244, 122, 61, 184, 92, 46, 23, 70, 35, 106, 53, 160, 80, 40, 20, 10, 5, 16, 8, 4, 2, 1, "
     ]
    }
   ],
   "source": [
    "x = 103 \n",
    "print(x, end = \", \")\n",
    "while x != 1 :\n",
    "    if x % 2 == 0 :\n",
    "        x = x/2 \n",
    "    else : \n",
    "        x = 3*x + 1\n",
    "    print(int(x), end = \", \")"
   ]
  },
  {
   "cell_type": "markdown",
   "id": "a8b980d4",
   "metadata": {},
   "source": [
    "<h3> 3 Functions</h3>"
   ]
  },
  {
   "cell_type": "markdown",
   "id": "ca493bff",
   "metadata": {},
   "source": [
    "<h5> Exercise 3.1: Hello </h5>"
   ]
  },
  {
   "cell_type": "markdown",
   "id": "c4a535a7",
   "metadata": {},
   "source": [
    "<h5> (a) </h5>"
   ]
  },
  {
   "cell_type": "code",
   "execution_count": 26,
   "id": "49460097",
   "metadata": {},
   "outputs": [
    {
     "name": "stdout",
     "output_type": "stream",
     "text": [
      "Hello, world!\n"
     ]
    }
   ],
   "source": [
    "def hello_world():\n",
    "   print(\"Hello, world!\")\n",
    "\n",
    "hello_world()"
   ]
  },
  {
   "cell_type": "markdown",
   "id": "32d7e944",
   "metadata": {},
   "source": [
    "<h5> (b) </h5>"
   ]
  },
  {
   "cell_type": "code",
   "execution_count": 23,
   "id": "a153168d",
   "metadata": {},
   "outputs": [
    {
     "name": "stdout",
     "output_type": "stream",
     "text": [
      "hello, bengisu!\n"
     ]
    }
   ],
   "source": [
    "def hello_world(name):\n",
    "    print(\"hello, \" + name+ \"!\")\n",
    "hello_world(\"bengisu\")"
   ]
  },
  {
   "cell_type": "markdown",
   "id": "e8c9f658",
   "metadata": {},
   "source": [
    "<h5> (c) </h5>"
   ]
  },
  {
   "cell_type": "markdown",
   "id": "0d3b371c",
   "metadata": {},
   "source": [
    "We use 'print' when we want to show the value but 'return' is a keyword which we use when we want to use the return value somewhere else in our code. In this case(print hello) they both will perform very well. "
   ]
  },
  {
   "cell_type": "markdown",
   "id": "736ed4c8",
   "metadata": {},
   "source": [
    "<h5> Exercise 3.2: Polynomial </h5>"
   ]
  },
  {
   "cell_type": "code",
   "execution_count": 29,
   "id": "542723a1",
   "metadata": {},
   "outputs": [],
   "source": [
    "def poly(x):\n",
    "    return x**2 -x + 2\n"
   ]
  },
  {
   "cell_type": "markdown",
   "id": "664d995c",
   "metadata": {},
   "source": [
    "<h5> Exercise 3.3: Maximum </h5>"
   ]
  },
  {
   "cell_type": "markdown",
   "id": "08367e50",
   "metadata": {},
   "source": [
    "<h5> (a) </h5>"
   ]
  },
  {
   "cell_type": "code",
   "execution_count": 38,
   "id": "e016e0ab",
   "metadata": {},
   "outputs": [
    {
     "data": {
      "text/plain": [
       "3"
      ]
     },
     "execution_count": 38,
     "metadata": {},
     "output_type": "execute_result"
    }
   ],
   "source": [
    "def my_max(x,y) :\n",
    "    if x < y :\n",
    "        return y\n",
    "    else :\n",
    "        return x\n",
    "    \n",
    "my_max(1,3)"
   ]
  },
  {
   "cell_type": "markdown",
   "id": "07c6033e",
   "metadata": {},
   "source": [
    "<h5> (b) </h5>"
   ]
  },
  {
   "cell_type": "code",
   "execution_count": 37,
   "id": "14e8f461",
   "metadata": {},
   "outputs": [
    {
     "data": {
      "text/plain": [
       "7"
      ]
     },
     "execution_count": 37,
     "metadata": {},
     "output_type": "execute_result"
    }
   ],
   "source": [
    "def my_max(x,y) :\n",
    "    if x < y :\n",
    "        return y\n",
    "    if y < x : \n",
    "        return x\n",
    "my_max(7,5)"
   ]
  },
  {
   "cell_type": "markdown",
   "id": "66d51dd6",
   "metadata": {},
   "source": [
    "<h5> Exercise 3.4: Primes </h5>"
   ]
  },
  {
   "cell_type": "markdown",
   "id": "60274a14",
   "metadata": {},
   "source": [
    "<h5> (a) </h5>"
   ]
  },
  {
   "cell_type": "code",
   "execution_count": 133,
   "id": "30c93beb",
   "metadata": {
    "scrolled": true
   },
   "outputs": [
    {
     "data": {
      "text/plain": [
       "True"
      ]
     },
     "execution_count": 133,
     "metadata": {},
     "output_type": "execute_result"
    }
   ],
   "source": [
    "def is_prime(n) :\n",
    "    if n == 2 :\n",
    "            return True\n",
    "    elif n == 3 :\n",
    "            return True\n",
    "    elif n== 1 : \n",
    "        return False\n",
    "    elif n == 4 :\n",
    "        return False\n",
    "    for i in range (2, n//2) :\n",
    "        if n % i == 0 :\n",
    "            return False\n",
    "            \n",
    "    else :\n",
    "            return True\n",
    "            \n",
    "            \n",
    "            \n",
    "is_prime(7) "
   ]
  },
  {
   "cell_type": "markdown",
   "id": "8292847f",
   "metadata": {},
   "source": [
    "<h5> (b) </h5>"
   ]
  },
  {
   "cell_type": "code",
   "execution_count": 96,
   "id": "e96e64c0",
   "metadata": {},
   "outputs": [
    {
     "data": {
      "text/plain": [
       "True"
      ]
     },
     "execution_count": 96,
     "metadata": {},
     "output_type": "execute_result"
    }
   ],
   "source": [
    "def is_prime_faster(n) :    \n",
    "    for i in range (2,n//2,5) :\n",
    "        if n % i == 0 :\n",
    "            return False\n",
    "        else :\n",
    "            return True\n",
    "    for i in range (2,n//2,7) :\n",
    "          if n % i == 0 :\n",
    "            return False\n",
    "          else :\n",
    "            return True\n",
    "    if n == 2 :\n",
    "        return True\n",
    "    if n == 3 :\n",
    "        return True\n",
    "is_prime_faster(7)\n",
    "        \n",
    "    \n",
    "        "
   ]
  },
  {
   "cell_type": "markdown",
   "id": "adedab12",
   "metadata": {},
   "source": [
    "<h5> (c) </h5>"
   ]
  },
  {
   "cell_type": "code",
   "execution_count": 134,
   "id": "778ec459",
   "metadata": {},
   "outputs": [
    {
     "name": "stdout",
     "output_type": "stream",
     "text": [
      "2\n",
      "3\n",
      "5\n",
      "7\n",
      "11\n",
      "13\n"
     ]
    }
   ],
   "source": [
    "def my_func(n) :\n",
    "    i= 1\n",
    "    while i < n  :\n",
    "        if is_prime(i)== True :\n",
    "            print (i)\n",
    "        i += 1\n",
    "            \n",
    "my_func(14)    "
   ]
  },
  {
   "cell_type": "markdown",
   "id": "145c967c",
   "metadata": {},
   "source": [
    "<h5> (d) </h5>"
   ]
  },
  {
   "cell_type": "code",
   "execution_count": 137,
   "id": "4bb477e1",
   "metadata": {},
   "outputs": [
    {
     "name": "stdout",
     "output_type": "stream",
     "text": [
      "2\n",
      "3\n",
      "5\n",
      "7\n",
      "11\n",
      "13\n"
     ]
    }
   ],
   "source": [
    "def my_function(n) :\n",
    "    x = 2\n",
    "    i = 0\n",
    "    while i < n :\n",
    "        if is_prime(x):\n",
    "            print(x)\n",
    "            i += 1\n",
    "        x += 1    \n",
    "my_function(6)            "
   ]
  },
  {
   "cell_type": "code",
   "execution_count": null,
   "id": "51e11a34",
   "metadata": {},
   "outputs": [],
   "source": []
  }
 ],
 "metadata": {
  "kernelspec": {
   "display_name": "Python 3 (ipykernel)",
   "language": "python",
   "name": "python3"
  },
  "language_info": {
   "codemirror_mode": {
    "name": "ipython",
    "version": 3
   },
   "file_extension": ".py",
   "mimetype": "text/x-python",
   "name": "python",
   "nbconvert_exporter": "python",
   "pygments_lexer": "ipython3",
   "version": "3.9.7"
  }
 },
 "nbformat": 4,
 "nbformat_minor": 5
}
